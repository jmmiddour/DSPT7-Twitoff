{
 "cells": [
  {
   "cell_type": "markdown",
   "metadata": {
    "colab": {
     "base_uri": "https://localhost:8080/",
     "height": 155
    },
    "colab_type": "code",
    "id": "SGPLRW-t1ECX",
    "outputId": "f774218a-8e3e-46b3-80ec-8eb1667ddd33"
   },
   "source": [
    "### DSPT6 - Unit 3 Module 2 - Consuming Data from an API\n",
    "\n",
    "The purpose of this notebook is to demonstrate:\n",
    "- Connect to the Twitter API (and twitter_scraper) to query for tweets and user information by various parameters\n",
    "- Convert tweet text using SpaCy into numerical embeddings that can be use in a predictive model"
   ]
  },
  {
   "cell_type": "code",
   "execution_count": 1,
   "metadata": {
    "colab": {},
    "colab_type": "code",
    "id": "vS_A9hjG1HGD"
   },
   "outputs": [],
   "source": [
    "# Import a way to connect with the Twitter API:\n",
    "import tweepy"
   ]
  },
  {
   "cell_type": "code",
   "execution_count": 3,
   "metadata": {},
   "outputs": [],
   "source": [
    "# Add your credentials here:\n",
    "TWITTER_KEY = ''\n",
    "TWITTER_SECRET = ''\n",
    "TWITTER_TOKEN = ''\n",
    "TWITTER_TOKEN_SECRET = ''"
   ]
  },
  {
   "cell_type": "code",
   "execution_count": 4,
   "metadata": {
    "colab": {},
    "colab_type": "code",
    "id": "6F65yM5G1gP1"
   },
   "outputs": [],
   "source": [
    "# Access Twitter API:\n",
    "TWITTER_AUTH = tweepy.OAuthHandler(TWITTER_KEY, TWITTER_SECRET)\n",
    "TWITTER_AUTH.set_access_token(TWITTER_TOKEN, TWITTER_TOKEN_SECRET)\n",
    "TWITTER = tweepy.API(TWITTER_AUTH)"
   ]
  },
  {
   "cell_type": "code",
   "execution_count": 5,
   "metadata": {},
   "outputs": [
    {
     "output_type": "execute_result",
     "data": {
      "text/plain": [
       "['__class__',\n",
       " '__delattr__',\n",
       " '__dict__',\n",
       " '__dir__',\n",
       " '__doc__',\n",
       " '__eq__',\n",
       " '__format__',\n",
       " '__ge__',\n",
       " '__getattribute__',\n",
       " '__gt__',\n",
       " '__hash__',\n",
       " '__init__',\n",
       " '__init_subclass__',\n",
       " '__le__',\n",
       " '__lt__',\n",
       " '__module__',\n",
       " '__ne__',\n",
       " '__new__',\n",
       " '__reduce__',\n",
       " '__reduce_ex__',\n",
       " '__repr__',\n",
       " '__setattr__',\n",
       " '__sizeof__',\n",
       " '__str__',\n",
       " '__subclasshook__',\n",
       " '__weakref__',\n",
       " '_add_list_members',\n",
       " '_lookup_friendships',\n",
       " '_pack_image',\n",
       " '_remove_list_members',\n",
       " '_send_direct_message',\n",
       " 'add_list_member',\n",
       " 'add_list_members',\n",
       " 'api_root',\n",
       " 'auth',\n",
       " 'blocks',\n",
       " 'blocks_ids',\n",
       " 'cache',\n",
       " 'compression',\n",
       " 'configuration',\n",
       " 'create_block',\n",
       " 'create_favorite',\n",
       " 'create_friendship',\n",
       " 'create_list',\n",
       " 'create_media_metadata',\n",
       " 'create_mute',\n",
       " 'create_saved_search',\n",
       " 'destroy_block',\n",
       " 'destroy_direct_message',\n",
       " 'destroy_favorite',\n",
       " 'destroy_friendship',\n",
       " 'destroy_list',\n",
       " 'destroy_mute',\n",
       " 'destroy_saved_search',\n",
       " 'destroy_status',\n",
       " 'favorites',\n",
       " 'followers',\n",
       " 'followers_ids',\n",
       " 'friends',\n",
       " 'friends_ids',\n",
       " 'friendships_incoming',\n",
       " 'friendships_outgoing',\n",
       " 'geo_id',\n",
       " 'geo_search',\n",
       " 'geo_similar_places',\n",
       " 'get_direct_message',\n",
       " 'get_list',\n",
       " 'get_oembed',\n",
       " 'get_saved_search',\n",
       " 'get_settings',\n",
       " 'get_status',\n",
       " 'get_user',\n",
       " 'home_timeline',\n",
       " 'host',\n",
       " 'list_direct_messages',\n",
       " 'list_members',\n",
       " 'list_subscribers',\n",
       " 'list_timeline',\n",
       " 'lists_all',\n",
       " 'lists_memberships',\n",
       " 'lists_subscriptions',\n",
       " 'lookup_friendships',\n",
       " 'lookup_users',\n",
       " 'me',\n",
       " 'media_upload',\n",
       " 'mentions_timeline',\n",
       " 'mutes',\n",
       " 'mutes_ids',\n",
       " 'parser',\n",
       " 'proxy',\n",
       " 'rate_limit_status',\n",
       " 'related_results',\n",
       " 'remove_list_member',\n",
       " 'remove_list_members',\n",
       " 'report_spam',\n",
       " 'retry_count',\n",
       " 'retry_delay',\n",
       " 'retry_errors',\n",
       " 'retweet',\n",
       " 'retweeters',\n",
       " 'retweets',\n",
       " 'retweets_of_me',\n",
       " 'reverse_geocode',\n",
       " 'saved_searches',\n",
       " 'search',\n",
       " 'search_host',\n",
       " 'search_root',\n",
       " 'search_users',\n",
       " 'send_direct_message',\n",
       " 'set_settings',\n",
       " 'show_friendship',\n",
       " 'show_list_member',\n",
       " 'show_list_subscriber',\n",
       " 'statuses_lookup',\n",
       " 'subscribe_list',\n",
       " 'supported_languages',\n",
       " 'timeout',\n",
       " 'trends_available',\n",
       " 'trends_closest',\n",
       " 'trends_place',\n",
       " 'unretweet',\n",
       " 'unsubscribe_list',\n",
       " 'update_list',\n",
       " 'update_profile',\n",
       " 'update_profile_background_image',\n",
       " 'update_profile_banner',\n",
       " 'update_profile_image',\n",
       " 'update_status',\n",
       " 'update_with_media',\n",
       " 'upload_host',\n",
       " 'upload_root',\n",
       " 'user_timeline',\n",
       " 'verify_credentials',\n",
       " 'wait_on_rate_limit',\n",
       " 'wait_on_rate_limit_notify']"
      ]
     },
     "metadata": {},
     "execution_count": 5
    }
   ],
   "source": [
    "# Look at what is available in TWITTER class object:\n",
    "dir(TWITTER)"
   ]
  },
  {
   "cell_type": "code",
   "execution_count": 6,
   "metadata": {},
   "outputs": [
    {
     "output_type": "execute_result",
     "data": {
      "text/plain": [
       "User(_api=<tweepy.api.API object at 0x00000167151B0EE0>, _json={'id': 44196397, 'id_str': '44196397', 'name': 'Elon Musk', 'screen_name': 'elonmusk', 'location': '', 'profile_location': None, 'description': '', 'url': None, 'entities': {'description': {'urls': []}}, 'protected': False, 'followers_count': 39211093, 'friends_count': 97, 'listed_count': 56328, 'created_at': 'Tue Jun 02 20:12:29 +0000 2009', 'favourites_count': 6813, 'utc_offset': None, 'time_zone': None, 'geo_enabled': False, 'verified': True, 'statuses_count': 12528, 'lang': None, 'status': {'created_at': 'Wed Oct 07 21:23:11 +0000 2020', 'id': 1313953038378434561, 'id_str': '1313953038378434561', 'text': '@TeslaGong @TeslaTested Yes', 'truncated': False, 'entities': {'hashtags': [], 'symbols': [], 'user_mentions': [{'screen_name': 'TeslaGong', 'name': 'Tesla in the Gong', 'id': 1008296232261783552, 'id_str': '1008296232261783552', 'indices': [0, 10]}, {'screen_name': 'TeslaTested', 'name': 'Zach', 'id': 1153084332078243850, 'id_str': '1153084332078243850', 'indices': [11, 23]}], 'urls': []}, 'source': '<a href=\"http://twitter.com/download/iphone\" rel=\"nofollow\">Twitter for iPhone</a>', 'in_reply_to_status_id': 1313952971663708160, 'in_reply_to_status_id_str': '1313952971663708160', 'in_reply_to_user_id': 1008296232261783552, 'in_reply_to_user_id_str': '1008296232261783552', 'in_reply_to_screen_name': 'TeslaGong', 'geo': None, 'coordinates': None, 'place': None, 'contributors': None, 'is_quote_status': False, 'retweet_count': 42, 'favorite_count': 940, 'favorited': False, 'retweeted': False, 'lang': 'und'}, 'contributors_enabled': False, 'is_translator': False, 'is_translation_enabled': False, 'profile_background_color': 'C0DEED', 'profile_background_image_url': 'http://abs.twimg.com/images/themes/theme1/bg.png', 'profile_background_image_url_https': 'https://abs.twimg.com/images/themes/theme1/bg.png', 'profile_background_tile': False, 'profile_image_url': 'http://pbs.twimg.com/profile_images/1295975423654977537/dHw9JcrK_normal.jpg', 'profile_image_url_https': 'https://pbs.twimg.com/profile_images/1295975423654977537/dHw9JcrK_normal.jpg', 'profile_banner_url': 'https://pbs.twimg.com/profile_banners/44196397/1576183471', 'profile_link_color': '0084B4', 'profile_sidebar_border_color': 'C0DEED', 'profile_sidebar_fill_color': 'DDEEF6', 'profile_text_color': '333333', 'profile_use_background_image': True, 'has_extended_profile': True, 'default_profile': False, 'default_profile_image': False, 'following': False, 'follow_request_sent': False, 'notifications': False, 'translator_type': 'none'}, id=44196397, id_str='44196397', name='Elon Musk', screen_name='elonmusk', location='', profile_location=None, description='', url=None, entities={'description': {'urls': []}}, protected=False, followers_count=39211093, friends_count=97, listed_count=56328, created_at=datetime.datetime(2009, 6, 2, 20, 12, 29), favourites_count=6813, utc_offset=None, time_zone=None, geo_enabled=False, verified=True, statuses_count=12528, lang=None, status=Status(_api=<tweepy.api.API object at 0x00000167151B0EE0>, _json={'created_at': 'Wed Oct 07 21:23:11 +0000 2020', 'id': 1313953038378434561, 'id_str': '1313953038378434561', 'text': '@TeslaGong @TeslaTested Yes', 'truncated': False, 'entities': {'hashtags': [], 'symbols': [], 'user_mentions': [{'screen_name': 'TeslaGong', 'name': 'Tesla in the Gong', 'id': 1008296232261783552, 'id_str': '1008296232261783552', 'indices': [0, 10]}, {'screen_name': 'TeslaTested', 'name': 'Zach', 'id': 1153084332078243850, 'id_str': '1153084332078243850', 'indices': [11, 23]}], 'urls': []}, 'source': '<a href=\"http://twitter.com/download/iphone\" rel=\"nofollow\">Twitter for iPhone</a>', 'in_reply_to_status_id': 1313952971663708160, 'in_reply_to_status_id_str': '1313952971663708160', 'in_reply_to_user_id': 1008296232261783552, 'in_reply_to_user_id_str': '1008296232261783552', 'in_reply_to_screen_name': 'TeslaGong', 'geo': None, 'coordinates': None, 'place': None, 'contributors': None, 'is_quote_status': False, 'retweet_count': 42, 'favorite_count': 940, 'favorited': False, 'retweeted': False, 'lang': 'und'}, created_at=datetime.datetime(2020, 10, 7, 21, 23, 11), id=1313953038378434561, id_str='1313953038378434561', text='@TeslaGong @TeslaTested Yes', truncated=False, entities={'hashtags': [], 'symbols': [], 'user_mentions': [{'screen_name': 'TeslaGong', 'name': 'Tesla in the Gong', 'id': 1008296232261783552, 'id_str': '1008296232261783552', 'indices': [0, 10]}, {'screen_name': 'TeslaTested', 'name': 'Zach', 'id': 1153084332078243850, 'id_str': '1153084332078243850', 'indices': [11, 23]}], 'urls': []}, source='Twitter for iPhone', source_url='http://twitter.com/download/iphone', in_reply_to_status_id=1313952971663708160, in_reply_to_status_id_str='1313952971663708160', in_reply_to_user_id=1008296232261783552, in_reply_to_user_id_str='1008296232261783552', in_reply_to_screen_name='TeslaGong', geo=None, coordinates=None, place=None, contributors=None, is_quote_status=False, retweet_count=42, favorite_count=940, favorited=False, retweeted=False, lang='und'), contributors_enabled=False, is_translator=False, is_translation_enabled=False, profile_background_color='C0DEED', profile_background_image_url='http://abs.twimg.com/images/themes/theme1/bg.png', profile_background_image_url_https='https://abs.twimg.com/images/themes/theme1/bg.png', profile_background_tile=False, profile_image_url='http://pbs.twimg.com/profile_images/1295975423654977537/dHw9JcrK_normal.jpg', profile_image_url_https='https://pbs.twimg.com/profile_images/1295975423654977537/dHw9JcrK_normal.jpg', profile_banner_url='https://pbs.twimg.com/profile_banners/44196397/1576183471', profile_link_color='0084B4', profile_sidebar_border_color='C0DEED', profile_sidebar_fill_color='DDEEF6', profile_text_color='333333', profile_use_background_image=True, has_extended_profile=True, default_profile=False, default_profile_image=False, following=False, follow_request_sent=False, notifications=False, translator_type='none')"
      ]
     },
     "metadata": {},
     "execution_count": 6
    }
   ],
   "source": [
    "# Get a Twitter User infomation:\n",
    "twitter_user = TWITTER.get_user('elonmusk')\n",
    "twitter_user"
   ]
  },
  {
   "cell_type": "code",
   "execution_count": 7,
   "metadata": {},
   "outputs": [
    {
     "output_type": "execute_result",
     "data": {
      "text/plain": [
       "44196397"
      ]
     },
     "metadata": {},
     "execution_count": 7
    }
   ],
   "source": [
    "# Get the Twitter user's id number:\n",
    "twitter_user.id"
   ]
  },
  {
   "cell_type": "code",
   "execution_count": 8,
   "metadata": {},
   "outputs": [
    {
     "output_type": "execute_result",
     "data": {
      "text/plain": [
       "use_background_image=True, has_extended_profile=True, default_profile=False, default_profile_image=False, following=False, follow_request_sent=False, notifications=False, translator_type='none'), geo=None, coordinates=None, place=None, contributors=None, is_quote_status=False, retweet_count=120, favorite_count=1527, favorited=False, retweeted=False, lang='en'),\n",
       " Status(_api=<tweepy.api.API object at 0x00000167151B0EE0>, _json={'created_at': 'Wed Oct 07 15:31:48 +0000 2020', 'id': 1313864611997855744, 'id_str': '1313864611997855744', 'text': '@raytech247 @WholeMarsBlog Even GM &amp; Chrysler went bankrupt in 2009. Ford and Tesla are the only US car companies t… https://t.co/ieaOuIsJRi', 'truncated': True, 'entities': {'hashtags': [], 'symbols': [], 'user_mentions': [{'screen_name': 'raytech247', 'name': 'Adam Raymer-Brown', 'id': 250481596, 'id_str': '250481596', 'indices': [0, 11]}, {'screen_name': 'WholeMarsBlog', 'name': 'Whole Mars Catalog', 'id': 1263491240336769026, 'id_str': '1263491240336769026', 'indices': [12, 26]}], 'urls': [{'url': 'https://t.co/ieaOuIsJRi', 'expanded_url': 'https://twitter.com/i/web/status/1313864611997855744', 'display_url': 'twitter.com/i/web/status/1…', 'indices': [121, 144]}]}, 'source': '<a href=\"http://twitter.com/download/iphone\" rel=\"nofollow\">Twitter for iPhone</a>', 'in_reply_to_status_id': 1313864182350204928, 'in_reply_to_status_id_str': '1313864182350204928', 'in_reply_to_user_id': 44196397, 'in_reply_to_user_id_str': '44196397', 'in_reply_to_screen_name': 'elonmusk', 'user': {'id': 44196397, 'id_str': '44196397', 'name': 'Elon Musk', 'screen_name': 'elonmusk', 'location': '', 'description': '', 'url': None, 'entities': {'description': {'urls': []}}, 'protected': False, 'followers_count': 39211098, 'friends_count': 97, 'listed_count': 56328, 'created_at': 'Tue Jun 02 20:12:29 +0000 2009', 'favourites_count': 6813, 'utc_offset': None, 'time_zone': None, 'geo_enabled': False, 'verified': True, 'statuses_count': 12528, 'lang': None, 'contributors_enabled': False, 'is_translator': False, 'is_translation_enabled': False, 'profile_background_color': 'C0DEED', 'profile_background_image_url': 'http://abs.twimg.com/images/themes/theme1/bg.png', 'profile_background_image_url_https': 'https://abs.twimg.com/images/themes/theme1/bg.png', 'profile_background_tile': False, 'profile_image_url': 'http://pbs.twimg.com/profile_images/1295975423654977537/dHw9JcrK_normal.jpg', 'profile_image_url_https': 'https://pbs.twimg.com/profile_images/1295975423654977537/dHw9JcrK_normal.jpg', 'profile_banner_url': 'https://pbs.twimg.com/profile_banners/44196397/1576183471', 'profile_link_color': '0084B4', 'profile_sidebar_border_color': 'C0DEED', 'profile_sidebar_fill_color': 'DDEEF6', 'profile_text_color': '333333', 'profile_use_background_image': True, 'has_extended_profile': True, 'default_profile': False, 'default_profile_image': False, 'following': False, 'follow_request_sent': False, 'notifications': False, 'translator_type': 'none'}, 'geo': None, 'coordinates': None, 'place': None, 'contributors': None, 'is_quote_status': False, 'retweet_count': 98, 'favorite_count': 1315, 'favorited': False, 'retweeted': False, 'lang': 'en'}, created_at=datetime.datetime(2020, 10, 7, 15, 31, 48), id=1313864611997855744, id_str='1313864611997855744', text='@raytech247 @WholeMarsBlog Even GM &amp; Chrysler went bankrupt in 2009. Ford and Tesla are the only US car companies t… https://t.co/ieaOuIsJRi', truncated=True, entities={'hashtags': [], 'symbols': [], 'user_mentions': [{'screen_name': 'raytech247', 'name': 'Adam Raymer-Brown', 'id': 250481596, 'id_str': '250481596', 'indices': [0, 11]}, {'screen_name': 'WholeMarsBlog', 'name': 'Whole Mars Catalog', 'id': 1263491240336769026, 'id_str': '1263491240336769026', 'indices': [12, 26]}], 'urls': [{'url': 'https://t.co/ieaOuIsJRi', 'expanded_url': 'https://twitter.com/i/web/status/1313864611997855744', 'display_url': 'twitter.com/i/web/status/1…', 'indices': [121, 144]}]}, source='Twitter for iPhone', source_url='http://twitter.com/download/iphone', in_reply_to_status_id=1313864182350204928, in_reply_to_status_id_str='1313864182350204928', in_reply_to_user_id=44196397, in_reply_to_user_id_str='44196397', in_reply_to_screen_name='elonmusk', author=User(_api=<tweepy.api.API object at 0x00000167151B0EE0>, _json={'id': 44196397, 'id_str': '44196397', 'name': 'Elon Musk', 'screen_name': 'elonmusk', 'location': '', 'description': '', 'url': None, 'entities': {'description': {'urls': []}}, 'protected': False, 'followers_count': 39211098, 'friends_count': 97, 'listed_count': 56328, 'created_at': 'Tue Jun 02 20:12:29 +0000 2009', 'favourites_count': 6813, 'utc_offset': None, 'time_zone': None, 'geo_enabled': False, 'verified': True, 'statuses_count': 12528, 'lang': None, 'contributors_enabled': False, 'is_translator': False, 'is_translation_enabled': False, 'profile_background_color': 'C0DEED', 'profile_background_image_url': 'http://abs.twimg.com/images/themes/theme1/bg.png', 'profile_background_image_url_https': 'https://abs.twimg.com/images/themes/theme1/bg.png', 'profile_background_tile': False, 'profile_image_url': 'http://pbs.twimg.com/profile_images/1295975423654977537/dHw9JcrK_normal.jpg', 'profile_image_url_https': 'https://pbs.twimg.com/profile_images/1295975423654977537/dHw9JcrK_normal.jpg', 'profile_banner_url': 'https://pbs.twimg.com/profile_banners/44196397/1576183471', 'profile_link_color': '0084B4', 'profile_sidebar_border_color': 'C0DEED', 'profile_sidebar_fill_color': 'DDEEF6', 'profile_text_color': '333333', 'profile_use_background_image': True, 'has_extended_profile': True, 'default_profile': False, 'default_profile_image': False, 'following': False, 'follow_request_sent': False, 'notifications': False, 'translator_type': 'none'}, id=44196397, id_str='44196397', name='Elon Musk', screen_name='elonmusk', location='', description='', url=None, entities={'description': {'urls': []}}, protected=False, followers_count=39211098, friends_count=97, listed_count=56328, created_at=datetime.datetime(2009, 6, 2, 20, 12, 29), favourites_count=6813, utc_offset=None, time_zone=None, geo_enabled=False, verified=True, statuses_count=12528, lang=None, contributors_enabled=False, is_translator=False, is_translation_enabled=False, profile_background_color='C0DEED', profile_background_image_url='http://abs.twimg.com/images/themes/theme1/bg.png', profile_background_image_url_https='https://abs.twimg.com/images/themes/theme1/bg.png', profile_background_tile=False, profile_image_url='http://pbs.twimg.com/profile_images/1295975423654977537/dHw9JcrK_normal.jpg', profile_image_url_https='https://pbs.twimg.com/profile_images/1295975423654977537/dHw9JcrK_normal.jpg', profile_banner_url='https://pbs.twimg.com/profile_banners/44196397/1576183471', profile_link_color='0084B4', profile_sidebar_border_color='C0DEED', profile_sidebar_fill_color='DDEEF6', profile_text_color='333333', profile_use_background_image=True, has_extended_profile=True, default_profile=False, default_profile_image=False, following=False, follow_request_sent=False, notifications=False, translator_type='none'), user=User(_api=<tweepy.api.API object at 0x00000167151B0EE0>, _json={'id': 44196397, 'id_str': '44196397', 'name': 'Elon Musk', 'screen_name': 'elonmusk', 'location': '', 'description': '', 'url': None, 'entities': {'description': {'urls': []}}, 'protected': False, 'followers_count': 39211098, 'friends_count': 97, 'listed_count': 56328, 'created_at': 'Tue Jun 02 20:12:29 +0000 2009', 'favourites_count': 6813, 'utc_offset': None, 'time_zone': None, 'geo_enabled': False, 'verified': True, 'statuses_count': 12528, 'lang': None, 'contributors_enabled': False, 'is_translator': False, 'is_translation_enabled': False, 'profile_background_color': 'C0DEED', 'profile_background_image_url': 'http://abs.twimg.com/images/themes/theme1/bg.png', 'profile_background_image_url_https': 'https://abs.twimg.com/images/themes/theme1/bg.png', 'profile_background_tile': False, 'profile_image_url': 'http://pbs.twimg.com/profile_images/1295975423654977537/dHw9JcrK_normal.jpg', 'profile_image_url_https': 'https://pbs.twimg.com/profile_images/1295975423654977537/dHw9JcrK_normal.jpg', 'profile_banner_url': 'https://pbs.twimg.com/profile_banners/44196397/1576183471', 'profile_link_color': '0084B4', 'profile_sidebar_border_color': 'C0DEED', 'profile_sidebar_fill_color': 'DDEEF6', 'profile_text_color': '333333', 'profile_use_background_image': True, 'has_extended_profile': True, 'default_profile': False, 'default_profile_image': False, 'following': False, 'follow_request_sent': False, 'notifications': False, 'translator_type': 'none'}, id=44196397, id_str='44196397', name='Elon Musk', screen_name='elonmusk', location='', description='', url=None, entities={'description': {'urls': []}}, protected=False, followers_count=39211098, friends_count=97, listed_count=56328, created_at=datetime.datetime(2009, 6, 2, 20, 12, 29), favourites_count=6813, utc_offset=None, time_zone=None, geo_enabled=False, verified=True, statuses_count=12528, lang=None, contributors_enabled=False, is_translator=False, is_translation_enabled=False, profile_background_color='C0DEED', profile_background_image_url='http://abs.twimg.com/images/themes/theme1/bg.png', profile_background_image_url_https='https://abs.twimg.com/images/themes/theme1/bg.png', profile_background_tile=False, profile_image_url='http://pbs.twimg.com/profile_images/1295975423654977537/dHw9JcrK_normal.jpg', profile_image_url_https='https://pbs.twimg.com/profile_images/1295975423654977537/dHw9JcrK_normal.jpg', profile_banner_url='https://pbs.twimg.com/profile_banners/44196397/1576183471', profile_link_color='0084B4', profile_sidebar_border_color='C0DEED', profile_sidebar_fill_color='DDEEF6', profile_text_color='333333', profile_use_background_image=True, has_extended_profile=True, default_profile=False, default_profile_image=False, following=False, follow_request_sent=False, notifications=False, translator_type='none'), geo=None, coordinates=None, place=None, contributors=None, is_quote_status=False, retweet_count=98, favorite_count=1315, favorited=False, retweeted=False, lang='en'),\n",
       " Status(_api=<tweepy.api.API object at 0x00000167151B0EE0>, _json={'created_at': 'Wed Oct 07 15:30:06 +0000 2020', 'id': 1313864182350204928, 'id_str': '1313864182350204928', 'text': '@raytech247 @WholeMarsBlog The Model 3 production ramp was sheer agony for two years, but that was do or die for Te… https://t.co/zHqXmcO6Gy', 'truncated': True, 'entities': {'hashtags': [], 'symbols': [], 'user_mentions': [{'screen_name': 'raytech247', 'name': 'Adam Raymer-Brown', 'id': 250481596, 'id_str': '250481596', 'indices': [0, 11]}, {'screen_name': 'WholeMarsBlog', 'name': 'Whole Mars Catalog', 'id': 1263491240336769026, 'id_str': '1263491240336769026', 'indices': [12, 26]}], 'urls': [{'url': 'https://t.co/zHqXmcO6Gy', 'expanded_url': 'https://twitter.com/i/web/status/1313864182350204928', 'display_url': 'twitter.com/i/web/status/1…', 'indices': [117, 140]}]}, 'source': '<a href=\"http://twitter.com/download/iphone\" rel=\"nofollow\">Twitter for iPhone</a>', 'in_reply_to_status_id': 1313862150008438790, 'in_reply_to_status_id_str': '1313862150008438790', 'in_reply_to_user_id': 250481596, 'in_reply_to_user_id_str': '250481596', 'in_reply_to_screen_name': 'raytech247', 'user': {'id': 44196397, 'id_str': '44196397', 'name': 'Elon Musk', 'screen_name': 'elonmusk', 'location': '', 'description': '', 'url': None, 'entities': {'description': {'urls': []}}, 'protected': False, 'followers_count': 39211098, 'friends_count': 97, 'listed_count': 56328, 'created_at': 'Tue Jun 02 20:12:29 +0000 2009', 'favourites_count': 6813, 'utc_offset': None, 'time_zone': None, 'geo_enabled': False, 'verified': True, 'statuses_count': 12528, 'lang': None, 'contributors_enabled': False, 'is_translator': False, 'is_translation_enabled': False, 'profile_background_color': 'C0DEED', 'profile_background_image_url': 'http://abs.twimg.com/images/themes/theme1/bg.png', 'profile_background_image_url_https': 'https://abs.twimg.com/images/themes/theme1/bg.png', 'profile_background_tile': False, 'profile_image_url': 'http://pbs.twimg.com/profile_images/1295975423654977537/dHw9JcrK_normal.jpg', 'profile_image_url_https': 'https://pbs.twimg.com/profile_images/1295975423654977537/dHw9JcrK_normal.jpg', 'profile_banner_url': 'https://pbs.twimg.com/profile_banners/44196397/1576183471', 'profile_link_color': '0084B4', 'profile_sidebar_border_color': 'C0DEED', 'profile_sidebar_fill_color': 'DDEEF6', 'profile_text_color': '333333', 'profile_use_background_image': True, 'has_extended_profile': True, 'default_profile': False, 'default_profile_image': False, 'following': False, 'follow_request_sent': False, 'notifications': False, 'translator_type': 'none'}, 'geo': None, 'coordinates': None, 'place': None, 'contributors': None, 'is_quote_status': False, 'retweet_count': 146, 'favorite_count': 1845, 'favorited': False, 'retweeted': False, 'lang': 'en'}, created_at=datetime.datetime(2020, 10, 7, 15, 30, 6), id=1313864182350204928, id_str='1313864182350204928', text='@raytech247 @WholeMarsBlog The Model 3 production ramp was sheer agony for two years, but that was do or die for Te… https://t.co/zHqXmcO6Gy', truncated=True, entities={'hashtags': [], 'symbols': [], 'user_mentions': [{'screen_name': 'raytech247', 'name': 'Adam Raymer-Brown', 'id': 250481596, 'id_str': '250481596', 'indices': [0, 11]}, {'screen_name': 'WholeMarsBlog', 'name': 'Whole Mars Catalog', 'id': 1263491240336769026, 'id_str': '1263491240336769026', 'indices': [12, 26]}], 'urls': [{'url': 'https://t.co/zHqXmcO6Gy', 'expanded_url': 'https://twitter.com/i/web/status/1313864182350204928', 'display_url': 'twitter.com/i/web/status/1…', 'indices': [117, 140]}]}, source='Twitter for iPhone', source_url='http://twitter.com/download/iphone', in_reply_to_status_id=1313862150008438790, in_reply_to_status_id_str='1313862150008438790', in_reply_to_user_id=250481596, in_reply_to_user_id_str='250481596', in_reply_to_screen_name='raytech247', author=User(_api=<tweepy.api.API object at 0x00000167151B0EE0>, _json={'id': 44196397, 'id_str': '44196397', 'name': 'Elon Musk', 'screen_name': 'elonmusk', 'location': '', 'description': '', 'url': None, 'entities': {'description': {'urls': []}}, 'protected': False, 'followers_count': 39211098, 'friends_count': 97, 'listed_count': 56328, 'created_at': 'Tue Jun 02 20:12:29 +0000 2009', 'favourites_count': 6813, 'utc_offset': None, 'time_zone': None, 'geo_enabled': False, 'verified': True, 'statuses_count': 12528, 'lang': None, 'contributors_enabled': False, 'is_translator': False, 'is_translation_enabled': False, 'profile_background_color': 'C0DEED', 'profile_background_image_url': 'http://abs.twimg.com/images/themes/theme1/bg.png', 'profile_background_image_url_https': 'https://abs.twimg.com/images/themes/theme1/bg.png', 'profile_background_tile': False, 'profile_image_url': 'http://pbs.twimg.com/profile_images/1295975423654977537/dHw9JcrK_normal.jpg', 'profile_image_url_https': 'https://pbs.twimg.com/profile_images/1295975423654977537/dHw9JcrK_normal.jpg', 'profile_banner_url': 'https://pbs.twimg.com/profile_banners/44196397/1576183471', 'profile_link_color': '0084B4', 'profile_sidebar_border_color': 'C0DEED', 'profile_sidebar_fill_color': 'DDEEF6', 'profile_text_color': '333333', 'profile_use_background_image': True, 'has_extended_profile': True, 'default_profile': False, 'default_profile_image': False, 'following': False, 'follow_request_sent': False, 'notifications': False, 'translator_type': 'none'}, id=44196397, id_str='44196397', name='Elon Musk', screen_name='elonmusk', location='', description='', url=None, entities={'description': {'urls': []}}, protected=False, followers_count=39211098, friends_count=97, listed_count=56328, created_at=datetime.datetime(2009, 6, 2, 20, 12, 29), favourites_count=6813, utc_offset=None, time_zone=None, geo_enabled=False, verified=True, statuses_count=12528, lang=None, contributors_enabled=False, is_translator=False, is_translation_enabled=False, profile_background_color='C0DEED', profile_background_image_url='http://abs.twimg.com/images/themes/theme1/bg.png', profile_background_image_url_https='https://abs.twimg.com/images/themes/theme1/bg.png', profile_background_tile=False, profile_image_url='http://pbs.twimg.com/profile_images/1295975423654977537/dHw9JcrK_normal.jpg', profile_image_url_https='https://pbs.twimg.com/profile_images/1295975423654977537/dHw9JcrK_normal.jpg', profile_banner_url='https://pbs.twimg.com/profile_banners/44196397/1576183471', profile_link_color='0084B4', profile_sidebar_border_color='C0DEED', profile_sidebar_fill_color='DDEEF6', profile_text_color='333333', profile_use_background_image=True, has_extended_profile=True, default_profile=False, default_profile_image=False, following=False, follow_request_sent=False, notifications=False, translator_type='none'), user=User(_api=<tweepy.api.API object at 0x00000167151B0EE0>, _json={'id': 44196397, 'id_str': '44196397', 'name': 'Elon Musk', 'screen_name': 'elonmusk', 'location': '', 'description': '', 'url': None, 'entities': {'description': {'urls': []}}, 'protected': False, 'followers_count': 39211098, 'friends_count': 97, 'listed_count': 56328, 'created_at': 'Tue Jun 02 20:12:29 +0000 2009', 'favourites_count': 6813, 'utc_offset': None, 'time_zone': None, 'geo_enabled': False, 'verified': True, 'statuses_count': 12528, 'lang': None, 'contributors_enabled': False, 'is_translator': False, 'is_translation_enabled': False, 'profile_background_color': 'C0DEED', 'profile_background_image_url': 'http://abs.twimg.com/images/themes/theme1/bg.png', 'profile_background_image_url_https': 'https://abs.twimg.com/images/themes/theme1/bg.png', 'profile_background_tile': False, 'profile_image_url': 'http://pbs.twimg.com/profile_images/1295975423654977537/dHw9JcrK_normal.jpg', 'profile_image_url_https': 'https://pbs.twimg.com/profile_images/1295975423654977537/dHw9JcrK_normal.jpg', 'profile_banner_url': 'https://pbs.twimg.com/profile_banners/44196397/1576183471', 'profile_link_color': '0084B4', 'profile_sidebar_border_color': 'C0DEED', 'profile_sidebar_fill_color': 'DDEEF6', 'profile_text_color': '333333', 'profile_use_background_image': True, 'has_extended_profile': True, 'default_profile': False, 'default_profile_image': False, 'following': False, 'follow_request_sent': False, 'notifications': False, 'translator_type': 'none'}, id=44196397, id_str='44196397', name='Elon Musk', screen_name='elonmusk', location='', description='', url=None, entities={'description': {'urls': []}}, protected=False, followers_count=39211098, friends_count=97, listed_count=56328, created_at=datetime.datetime(2009, 6, 2, 20, 12, 29), favourites_count=6813, utc_offset=None, time_zone=None, geo_enabled=False, verified=True, statuses_count=12528, lang=None, contributors_enabled=False, is_translator=False, is_translation_enabled=False, profile_background_color='C0DEED', profile_background_image_url='http://abs.twimg.com/images/themes/theme1/bg.png', profile_background_image_url_https='https://abs.twimg.com/images/themes/theme1/bg.png', profile_background_tile=False, profile_image_url='http://pbs.twimg.com/profile_images/1295975423654977537/dHw9JcrK_normal.jpg', profile_image_url_https='https://pbs.twimg.com/profile_images/1295975423654977537/dHw9JcrK_normal.jpg', profile_banner_url='https://pbs.twimg.com/profile_banners/44196397/1576183471', profile_link_color='0084B4', profile_sidebar_border_color='C0DEED', profile_sidebar_fill_color='DDEEF6', profile_text_color='333333', profile_use_background_image=True, has_extended_profile=True, default_profile=False, default_profile_image=False, following=False, follow_request_sent=False, notifications=False, translator_type='none'), geo=None, coordinates=None, place=None, contributors=None, is_quote_status=False, retweet_count=146, favorite_count=1845, favorited=False, retweeted=False, lang='en')]"
      ]
     },
     "metadata": {},
     "execution_count": 8
    }
   ],
   "source": [
    "# Look at Elon Musk's timeline:\n",
    "elon_tweets = twitter_user.timeline()\n",
    "elon_tweets"
   ]
  },
  {
   "cell_type": "code",
   "execution_count": 9,
   "metadata": {},
   "outputs": [
    {
     "output_type": "execute_result",
     "data": {
      "text/plain": [
       "'@TeslaGong @TeslaTested Yes'"
      ]
     },
     "metadata": {},
     "execution_count": 9
    }
   ],
   "source": [
    "# Look at the first tweet in the list:\n",
    "elon_tweets[0].text"
   ]
  },
  {
   "cell_type": "code",
   "execution_count": 10,
   "metadata": {},
   "outputs": [
    {
     "output_type": "execute_result",
     "data": {
      "text/plain": [
       "20"
      ]
     },
     "metadata": {},
     "execution_count": 10
    }
   ],
   "source": [
    "# Look at the length of Elon's tweets:\n",
    "len(elon_tweets)"
   ]
  },
  {
   "cell_type": "code",
   "execution_count": 11,
   "metadata": {},
   "outputs": [
    {
     "output_type": "execute_result",
     "data": {
      "text/plain": [
       "18"
      ]
     },
     "metadata": {},
     "execution_count": 11
    }
   ],
   "source": [
    "# Get just Elon's tweets, no replies or retweets:\n",
    "# Using this code the replies and retweets are included in the 200 count but \n",
    "#   will not return them, so you might not get a full 200 tweets.\n",
    "# To get the max ID# need to run `elon_tweets[19].id` in another cell \n",
    "#   (the [19] should be replaced with the len - 1 number).\n",
    "elon_tweets = twitter_user.timeline(count=200,  # Num of tweets to retrieve, max 200/request\n",
    "                            exclude_replies=True,  # Don't include replies when 'True'\n",
    "                            include_rts=False,  # Don't include retweets when 'False'\n",
    "                            # max_id='',  # Get results with ID# >= specified ID#\n",
    "                            tweet_mode='extended')  # Gives you the full text of tweet\n",
    "\n",
    "# Look at the length of Elon's tweets now:\n",
    "len(elon_tweets)"
   ]
  },
  {
   "cell_type": "code",
   "execution_count": 12,
   "metadata": {},
   "outputs": [
    {
     "output_type": "execute_result",
     "data": {
      "text/plain": [
       "'5 minutes from launch. Looks good so far. https://t.co/on2f1pY5jt'"
      ]
     },
     "metadata": {},
     "execution_count": 12
    }
   ],
   "source": [
    "# View Elon's 2nd tweet (in extended mode need to use `.full_text` vs `.text` in reg mode):\n",
    "elon_tweets[1].full_text"
   ]
  },
  {
   "cell_type": "markdown",
   "metadata": {},
   "source": [
    "### SpaCy Embeddings\n",
    "Will turn the text strings into numeric value which can be used later in a machine learning model."
   ]
  },
  {
   "cell_type": "code",
   "execution_count": 13,
   "metadata": {},
   "outputs": [],
   "source": [
    "import spacy"
   ]
  },
  {
   "cell_type": "code",
   "execution_count": 14,
   "metadata": {},
   "outputs": [],
   "source": [
    "# Load the med English language package,\n",
    "#   disabling the tagger and parser will help to speed up the process some.\n",
    "nlp = spacy.load('en_core_web_sm', disable=['tagger', 'parser'])"
   ]
  },
  {
   "cell_type": "code",
   "execution_count": 15,
   "metadata": {
    "tags": []
   },
   "outputs": [
    {
     "output_type": "stream",
     "name": "stdout",
     "text": [
      "dog - Is in vector = False - Is not in vector = True\ncat - Is in vector = False - Is not in vector = True\nbanana - Is in vector = False - Is not in vector = True\nboy - Is in vector = False - Is not in vector = True\nHalloween - Is in vector = False - Is not in vector = True\nfall - Is in vector = False - Is not in vector = True\ncianeua - Is in vector = False - Is not in vector = True\n"
     ]
    }
   ],
   "source": [
    "# Add some random words to see if they are in the pre-trained vector:\n",
    "tokens = nlp('dog cat banana boy Halloween fall cianeua')\n",
    "\n",
    "for token in tokens:\n",
    "    print(f'{token.text} - Is in vector = {token.has_vector} - Is not in vector = {token.is_oov}')"
   ]
  },
  {
   "cell_type": "code",
   "execution_count": 16,
   "metadata": {},
   "outputs": [
    {
     "output_type": "execute_result",
     "data": {
      "text/plain": [
       "array([], dtype=float32)"
      ]
     },
     "metadata": {},
     "execution_count": 16
    }
   ],
   "source": [
    "# Look at the dog vector\n",
    "dog = nlp('dog')\n",
    "dog.vector"
   ]
  },
  {
   "cell_type": "code",
   "execution_count": 17,
   "metadata": {},
   "outputs": [
    {
     "output_type": "execute_result",
     "data": {
      "text/plain": [
       "array([], dtype=float32)"
      ]
     },
     "metadata": {},
     "execution_count": 17
    }
   ],
   "source": [
    "# Pass in the full text of the 2nd tweet to get the weighted average in a 300D vector,\n",
    "#  this will then be passed into the machine learning model.\n",
    "tweet_embedding = nlp(elon_tweets[1].full_text)\n",
    "tweet_embedding.vector"
   ]
  },
  {
   "cell_type": "markdown",
   "metadata": {},
   "source": [
    "### Bringing it all together"
   ]
  },
  {
   "cell_type": "code",
   "execution_count": 18,
   "metadata": {},
   "outputs": [],
   "source": [
    "# Will get the 300D vector for each tweet:\n",
    "def vectorize_tweet(nlp, tweet_text):\n",
    "    return nlp(tweet_text).vector"
   ]
  },
  {
   "cell_type": "code",
   "execution_count": 19,
   "metadata": {},
   "outputs": [],
   "source": [
    "# Function to add or update user info in Database:\n",
    "def add_or_update_user(username, nlp):\n",
    "    try:\n",
    "        twitter_user = TWITTER.get_user(username)\n",
    "\n",
    "        tweets = twitter_user.timeline(count=200,\n",
    "                            exclude_replies=True,\n",
    "                            include_rts=False,\n",
    "                            tweet_mode='extended')\n",
    "        \n",
    "        embeddings = vectorize_tweet(nlp, tweets[0].full_text)\n",
    "\n",
    "    except Exception as e:\n",
    "        print(f'Error while processing {username}: {e}')\n",
    "    \n",
    "    return tweets, embeddings"
   ]
  },
  {
   "source": [
    "#### Load and Save SpaCy Model"
   ],
   "cell_type": "markdown",
   "metadata": {}
  },
  {
   "cell_type": "code",
   "execution_count": 20,
   "metadata": {},
   "outputs": [],
   "source": [
    "import spacy\n",
    "import en_core_web_sm\n",
    "\n",
    "nlp = en_core_web_sm.load()\n",
    "nlp.to_disk('../spacy_sm_model/')"
   ]
  },
  {
   "cell_type": "code",
   "execution_count": null,
   "metadata": {},
   "outputs": [],
   "source": []
  }
 ],
 "metadata": {
  "colab": {
   "collapsed_sections": [],
   "name": "DSPT6_APIs_Demo.ipynb",
   "provenance": []
  },
  "kernelspec": {
   "name": "Python 3.8.3 64-bit ('DSPT7-Twitoff': pipenv)",
   "display_name": "Python 3.8.3 64-bit ('DSPT7-Twitoff': pipenv)",
   "metadata": {
    "interpreter": {
     "hash": "234f66c99587f826797483478b3366bd0c10329ac01ab75623abdffe75eec9df"
    }
   }
  },
  "language_info": {
   "codemirror_mode": {
    "name": "ipython",
    "version": 3
   },
   "file_extension": ".py",
   "mimetype": "text/x-python",
   "name": "python",
   "nbconvert_exporter": "python",
   "pygments_lexer": "ipython3",
   "version": "3.8.3-final"
  }
 },
 "nbformat": 4,
 "nbformat_minor": 4
}